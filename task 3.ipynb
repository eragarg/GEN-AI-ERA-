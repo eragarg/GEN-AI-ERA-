{
 "cells": [
  {
   "cell_type": "code",
   "execution_count": null,
   "id": "0c9d4b41-a433-498b-914c-31423e9a349e",
   "metadata": {},
   "outputs": [],
   "source": [
    "import random\n",
    "\n",
    "# Step 1: Create the Markov Chain Model\n",
    "def generate_markov_chain(text, n=2):\n",
    "    \"\"\" Generates a Markov Chain from the input text \"\"\"\n",
    "    model = {}\n",
    "    words = text.split()\n",
    "    \n",
    "    # Generate n-grams (pairs, triples, etc.) and their next word probabilities\n",
    "    for i in range(len(words) - n):\n",
    "        # n-gram as key, next word as value\n",
    "        gram = tuple(words[i:i + n])\n",
    "        next_word = words[i + n]\n",
    "        \n",
    "        if gram not in model:\n",
    "            model[gram] = []\n",
    "        model[gram].append(next_word)\n",
    "    \n",
    "    return model\n",
    "\n",
    "# Step 2: Generate Random Text Based on Markov Chain Model\n",
    "def generate_text(model, length=50, n=2):\n",
    "    \"\"\" Generates text based on the Markov Chain model \"\"\"\n",
    "    # Start with a random n-gram\n",
    "    start_gram = random.choice(list(model.keys()))\n",
    "    output = list(start_gram)\n",
    "    \n",
    "    for _ in range(length - n):\n",
    "        current_gram = tuple(output[-n:])\n",
    "        if current_gram in model:\n",
    "            next_word = random.choice(model[current_gram])\n",
    "            output.append(next_word)\n",
    "        else:\n",
    "            break  # Stop if no further words can be generated\n",
    "    \n",
    "    return ' '.join(output)\n",
    "\n",
    "# Step 3: Example Text and Model Creation\n",
    "example_text = \"\"\"In the world of machine learning, Markov chains are used to model the probability of a sequence of events. The future state depends only on the current state, not the sequence of events that preceded it. Markov chains have applications in various fields including natural language processing, statistics, and data analysis.\"\"\"\n",
    "\n",
    "# Create Markov chain model\n",
    "n = 2  # Using bigrams (pairs of words)\n",
    "markov_model = generate_markov_chain(example_text, n)\n",
    "\n",
    "# Step 4: Generate new text based on the model\n",
    "generated_text = generate_text(markov_model, length=50, n=n)\n",
    "print(generated_text)\n"
   ]
  }
 ],
 "metadata": {
  "kernelspec": {
   "display_name": "Python 3 (ipykernel)",
   "language": "python",
   "name": "python3"
  },
  "language_info": {
   "codemirror_mode": {
    "name": "ipython",
    "version": 3
   },
   "file_extension": ".py",
   "mimetype": "text/x-python",
   "name": "python",
   "nbconvert_exporter": "python",
   "pygments_lexer": "ipython3",
   "version": "3.13.5"
  }
 },
 "nbformat": 4,
 "nbformat_minor": 5
}
