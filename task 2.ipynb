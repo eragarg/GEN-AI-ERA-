{
 "cells": [
  {
   "cell_type": "code",
   "execution_count": null,
   "id": "1126967e-fba0-4138-9388-2b85b13f814e",
   "metadata": {},
   "outputs": [],
   "source": [
    "!pip install dalle-mini\n",
    "\n",
    "from dalle_mini import DalleBart, DalleBartProcessor\n",
    "from PIL import Image\n",
    "\n",
    "# Initialize model and processor\n",
    "dalle = DalleBart.from_pretrained(\"dalle-mini/dalle-mini/mega-1-fp16:latest\")\n",
    "processor = DalleBartProcessor.from_pretrained(\"dalle-mini/dalle-mini/mega-1-fp16:latest\")\n",
    "\n",
    "# Input prompt\n",
    "prompt = \"A futuristic city with flying cars\"\n",
    "\n",
    "# Generate the image\n",
    "inputs = processor([prompt], return_tensors=\"pt\")\n",
    "outputs = dalle.generate(**inputs)\n",
    "\n",
    "# Decode the output image\n",
    "image = processor.decode(outputs[0], skip_special_tokens=True)\n",
    "\n",
    "# Show image\n",
    "Image.open(image).show()\n"
   ]
  }
 ],
 "metadata": {
  "kernelspec": {
   "display_name": "Python 3 (ipykernel)",
   "language": "python",
   "name": "python3"
  },
  "language_info": {
   "codemirror_mode": {
    "name": "ipython",
    "version": 3
   },
   "file_extension": ".py",
   "mimetype": "text/x-python",
   "name": "python",
   "nbconvert_exporter": "python",
   "pygments_lexer": "ipython3",
   "version": "3.13.5"
  }
 },
 "nbformat": 4,
 "nbformat_minor": 5
}
